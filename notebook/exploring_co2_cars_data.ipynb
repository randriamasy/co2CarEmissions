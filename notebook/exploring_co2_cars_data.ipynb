{
 "cells": [
  {
   "cell_type": "markdown",
   "id": "50ba6042",
   "metadata": {},
   "source": [
    "# Notebook that aims to explore data about CO2 emissions from passenger cars \n",
    "\n",
    "Step 1: Data Viz"
   ]
  },
  {
   "cell_type": "markdown",
   "id": "115f6332",
   "metadata": {},
   "source": [
    "Link to the data [source](https://www.eea.europa.eu/data-and-maps/data/co2-cars-emission-20)"
   ]
  },
  {
   "cell_type": "code",
   "execution_count": 1,
   "id": "835f938b",
   "metadata": {},
   "outputs": [],
   "source": [
    "import pandas as pd\n",
    "import numpy as np\n",
    "import seaborn as sns\n",
    "import scipy.stats as stats\n",
    "import matplotlib.pyplot as plt\n",
    "from joblib import dump, load\n",
    "\n",
    "%matplotlib inline"
   ]
  },
  {
   "cell_type": "code",
   "execution_count": 2,
   "id": "eaa20b43",
   "metadata": {},
   "outputs": [],
   "source": [
    "path = \"../data/data.csv\""
   ]
  },
  {
   "cell_type": "code",
   "execution_count": 3,
   "id": "ff0354a0",
   "metadata": {},
   "outputs": [
    {
     "name": "stderr",
     "output_type": "stream",
     "text": [
      "/Users/randriamasy/opt/anaconda3/lib/python3.9/site-packages/IPython/core/interactiveshell.py:3106: DtypeWarning: Columns (2,3,8,12,28,35) have mixed types.Specify dtype option on import or set low_memory=False.\n",
      "  has_raised = await self.run_ast_nodes(code_ast.body, cell_name,\n"
     ]
    },
    {
     "name": "stdout",
     "output_type": "stream",
     "text": [
      "<class 'pandas.core.frame.DataFrame'>\n",
      "RangeIndex: 9920108 entries, 0 to 9920107\n",
      "Data columns (total 38 columns):\n",
      " #   Column                Dtype  \n",
      "---  ------                -----  \n",
      " 0   ID                    int64  \n",
      " 1   Country               object \n",
      " 2   VFN                   object \n",
      " 3   Mp                    object \n",
      " 4   Mh                    object \n",
      " 5   Man                   object \n",
      " 6   MMS                   float64\n",
      " 7   Tan                   object \n",
      " 8   T                     object \n",
      " 9   Va                    object \n",
      " 10  Ve                    object \n",
      " 11  Mk                    object \n",
      " 12  Cn                    object \n",
      " 13  Ct                    object \n",
      " 14  Cr                    object \n",
      " 15  r                     int64  \n",
      " 16  m (kg)                float64\n",
      " 17  Mt                    float64\n",
      " 18  Enedc (g/km)          float64\n",
      " 19  Ewltp (g/km)          float64\n",
      " 20  W (mm)                float64\n",
      " 21  At1 (mm)              float64\n",
      " 22  At2 (mm)              float64\n",
      " 23  Ft                    object \n",
      " 24  Fm                    object \n",
      " 25  ec (cm3)              float64\n",
      " 26  ep (KW)               float64\n",
      " 27  z (Wh/km)             float64\n",
      " 28  IT                    object \n",
      " 29  Ernedc (g/km)         float64\n",
      " 30  Erwltp (g/km)         float64\n",
      " 31  De                    float64\n",
      " 32  Vf                    float64\n",
      " 33  Status                object \n",
      " 34  year                  int64  \n",
      " 35  Date of registration  object \n",
      " 36  Fuel consumption      float64\n",
      " 37  Electric range (km)   float64\n",
      "dtypes: float64(17), int64(3), object(18)\n",
      "memory usage: 2.8+ GB\n"
     ]
    }
   ],
   "source": [
    "# Create the dataframe\n",
    "df = pd.read_csv(path)\n",
    "df.info()"
   ]
  },
  {
   "cell_type": "code",
   "execution_count": 7,
   "id": "26877d2d",
   "metadata": {},
   "outputs": [
    {
     "data": {
      "text/html": [
       "<div>\n",
       "<style scoped>\n",
       "    .dataframe tbody tr th:only-of-type {\n",
       "        vertical-align: middle;\n",
       "    }\n",
       "\n",
       "    .dataframe tbody tr th {\n",
       "        vertical-align: top;\n",
       "    }\n",
       "\n",
       "    .dataframe thead th {\n",
       "        text-align: right;\n",
       "    }\n",
       "</style>\n",
       "<table border=\"1\" class=\"dataframe\">\n",
       "  <thead>\n",
       "    <tr style=\"text-align: right;\">\n",
       "      <th></th>\n",
       "      <th>ID</th>\n",
       "      <th>Country</th>\n",
       "      <th>VFN</th>\n",
       "      <th>Mp</th>\n",
       "      <th>Mh</th>\n",
       "      <th>Man</th>\n",
       "      <th>MMS</th>\n",
       "      <th>Tan</th>\n",
       "      <th>T</th>\n",
       "      <th>Va</th>\n",
       "      <th>...</th>\n",
       "      <th>IT</th>\n",
       "      <th>Ernedc (g/km)</th>\n",
       "      <th>Erwltp (g/km)</th>\n",
       "      <th>De</th>\n",
       "      <th>Vf</th>\n",
       "      <th>Status</th>\n",
       "      <th>year</th>\n",
       "      <th>Date of registration</th>\n",
       "      <th>Fuel consumption</th>\n",
       "      <th>Electric range (km)</th>\n",
       "    </tr>\n",
       "  </thead>\n",
       "  <tbody>\n",
       "    <tr>\n",
       "      <th>0</th>\n",
       "      <td>57566673</td>\n",
       "      <td>IS</td>\n",
       "      <td>IP-01-JMB-2018-0001</td>\n",
       "      <td>RENAULT-NISSAN-MITSUBISHI</td>\n",
       "      <td>MITSUBISHI MOTORS CORPORATION</td>\n",
       "      <td>MITSUBISHI MOTORS CORPORATION</td>\n",
       "      <td>NaN</td>\n",
       "      <td>E1*2001/116*0406*32</td>\n",
       "      <td>CW0</td>\n",
       "      <td>GGP21</td>\n",
       "      <td>...</td>\n",
       "      <td>NaN</td>\n",
       "      <td>NaN</td>\n",
       "      <td>NaN</td>\n",
       "      <td>NaN</td>\n",
       "      <td>NaN</td>\n",
       "      <td>P</td>\n",
       "      <td>2021</td>\n",
       "      <td>2021-03-24</td>\n",
       "      <td>NaN</td>\n",
       "      <td>45.0</td>\n",
       "    </tr>\n",
       "    <tr>\n",
       "      <th>1</th>\n",
       "      <td>57566674</td>\n",
       "      <td>IS</td>\n",
       "      <td>IP-01-JMB-2018-0001</td>\n",
       "      <td>RENAULT-NISSAN-MITSUBISHI</td>\n",
       "      <td>MITSUBISHI MOTORS CORPORATION</td>\n",
       "      <td>MITSUBISHI MOTORS CORPORATION</td>\n",
       "      <td>NaN</td>\n",
       "      <td>E1*2001/116*0406*32</td>\n",
       "      <td>CW0</td>\n",
       "      <td>GGP21</td>\n",
       "      <td>...</td>\n",
       "      <td>NaN</td>\n",
       "      <td>NaN</td>\n",
       "      <td>NaN</td>\n",
       "      <td>NaN</td>\n",
       "      <td>NaN</td>\n",
       "      <td>P</td>\n",
       "      <td>2021</td>\n",
       "      <td>2021-03-24</td>\n",
       "      <td>NaN</td>\n",
       "      <td>45.0</td>\n",
       "    </tr>\n",
       "    <tr>\n",
       "      <th>2</th>\n",
       "      <td>57566675</td>\n",
       "      <td>IS</td>\n",
       "      <td>IP-01-JMB-2018-0001</td>\n",
       "      <td>RENAULT-NISSAN-MITSUBISHI</td>\n",
       "      <td>MITSUBISHI MOTORS CORPORATION</td>\n",
       "      <td>MITSUBISHI MOTORS CORPORATION</td>\n",
       "      <td>NaN</td>\n",
       "      <td>E1*2001/116*0406*32</td>\n",
       "      <td>CW0</td>\n",
       "      <td>GGP21</td>\n",
       "      <td>...</td>\n",
       "      <td>NaN</td>\n",
       "      <td>NaN</td>\n",
       "      <td>NaN</td>\n",
       "      <td>NaN</td>\n",
       "      <td>NaN</td>\n",
       "      <td>P</td>\n",
       "      <td>2021</td>\n",
       "      <td>2021-03-23</td>\n",
       "      <td>NaN</td>\n",
       "      <td>45.0</td>\n",
       "    </tr>\n",
       "    <tr>\n",
       "      <th>3</th>\n",
       "      <td>57566676</td>\n",
       "      <td>IS</td>\n",
       "      <td>IP-01-JMB-2018-0001</td>\n",
       "      <td>RENAULT-NISSAN-MITSUBISHI</td>\n",
       "      <td>MITSUBISHI MOTORS CORPORATION</td>\n",
       "      <td>MITSUBISHI MOTORS CORPORATION</td>\n",
       "      <td>NaN</td>\n",
       "      <td>E1*2001/116*0406*32</td>\n",
       "      <td>CW0</td>\n",
       "      <td>GGP21</td>\n",
       "      <td>...</td>\n",
       "      <td>NaN</td>\n",
       "      <td>NaN</td>\n",
       "      <td>NaN</td>\n",
       "      <td>NaN</td>\n",
       "      <td>NaN</td>\n",
       "      <td>P</td>\n",
       "      <td>2021</td>\n",
       "      <td>2021-03-23</td>\n",
       "      <td>NaN</td>\n",
       "      <td>45.0</td>\n",
       "    </tr>\n",
       "    <tr>\n",
       "      <th>4</th>\n",
       "      <td>57566677</td>\n",
       "      <td>IS</td>\n",
       "      <td>IP-01-JMB-2018-0001</td>\n",
       "      <td>RENAULT-NISSAN-MITSUBISHI</td>\n",
       "      <td>MITSUBISHI MOTORS CORPORATION</td>\n",
       "      <td>MITSUBISHI MOTORS CORPORATION</td>\n",
       "      <td>NaN</td>\n",
       "      <td>E1*2001/116*0406*32</td>\n",
       "      <td>CW0</td>\n",
       "      <td>GGP21</td>\n",
       "      <td>...</td>\n",
       "      <td>NaN</td>\n",
       "      <td>NaN</td>\n",
       "      <td>NaN</td>\n",
       "      <td>NaN</td>\n",
       "      <td>NaN</td>\n",
       "      <td>P</td>\n",
       "      <td>2021</td>\n",
       "      <td>2021-03-19</td>\n",
       "      <td>NaN</td>\n",
       "      <td>45.0</td>\n",
       "    </tr>\n",
       "  </tbody>\n",
       "</table>\n",
       "<p>5 rows × 38 columns</p>\n",
       "</div>"
      ],
      "text/plain": [
       "         ID Country                  VFN                         Mp  \\\n",
       "0  57566673      IS  IP-01-JMB-2018-0001  RENAULT-NISSAN-MITSUBISHI   \n",
       "1  57566674      IS  IP-01-JMB-2018-0001  RENAULT-NISSAN-MITSUBISHI   \n",
       "2  57566675      IS  IP-01-JMB-2018-0001  RENAULT-NISSAN-MITSUBISHI   \n",
       "3  57566676      IS  IP-01-JMB-2018-0001  RENAULT-NISSAN-MITSUBISHI   \n",
       "4  57566677      IS  IP-01-JMB-2018-0001  RENAULT-NISSAN-MITSUBISHI   \n",
       "\n",
       "                              Mh                            Man  MMS  \\\n",
       "0  MITSUBISHI MOTORS CORPORATION  MITSUBISHI MOTORS CORPORATION  NaN   \n",
       "1  MITSUBISHI MOTORS CORPORATION  MITSUBISHI MOTORS CORPORATION  NaN   \n",
       "2  MITSUBISHI MOTORS CORPORATION  MITSUBISHI MOTORS CORPORATION  NaN   \n",
       "3  MITSUBISHI MOTORS CORPORATION  MITSUBISHI MOTORS CORPORATION  NaN   \n",
       "4  MITSUBISHI MOTORS CORPORATION  MITSUBISHI MOTORS CORPORATION  NaN   \n",
       "\n",
       "                   Tan    T     Va  ...   IT Ernedc (g/km) Erwltp (g/km)  De  \\\n",
       "0  E1*2001/116*0406*32  CW0  GGP21  ...  NaN           NaN           NaN NaN   \n",
       "1  E1*2001/116*0406*32  CW0  GGP21  ...  NaN           NaN           NaN NaN   \n",
       "2  E1*2001/116*0406*32  CW0  GGP21  ...  NaN           NaN           NaN NaN   \n",
       "3  E1*2001/116*0406*32  CW0  GGP21  ...  NaN           NaN           NaN NaN   \n",
       "4  E1*2001/116*0406*32  CW0  GGP21  ...  NaN           NaN           NaN NaN   \n",
       "\n",
       "   Vf  Status  year  Date of registration  Fuel consumption   \\\n",
       "0 NaN       P  2021            2021-03-24                NaN   \n",
       "1 NaN       P  2021            2021-03-24                NaN   \n",
       "2 NaN       P  2021            2021-03-23                NaN   \n",
       "3 NaN       P  2021            2021-03-23                NaN   \n",
       "4 NaN       P  2021            2021-03-19                NaN   \n",
       "\n",
       "   Electric range (km)  \n",
       "0                 45.0  \n",
       "1                 45.0  \n",
       "2                 45.0  \n",
       "3                 45.0  \n",
       "4                 45.0  \n",
       "\n",
       "[5 rows x 38 columns]"
      ]
     },
     "execution_count": 7,
     "metadata": {},
     "output_type": "execute_result"
    }
   ],
   "source": [
    "df.head()"
   ]
  },
  {
   "cell_type": "code",
   "execution_count": 6,
   "id": "66953dd0",
   "metadata": {},
   "outputs": [
    {
     "data": {
      "text/plain": [
       "<AxesSubplot:xlabel='Country', ylabel='count'>"
      ]
     },
     "execution_count": 6,
     "metadata": {},
     "output_type": "execute_result"
    },
    {
     "data": {
      "image/png": "[encoded data removed]",
      "text/plain": [
       "<Figure size 936x595.44 with 1 Axes>"
      ]
     },
     "metadata": {},
     "output_type": "display_data"
    }
   ],
   "source": [
    "sns.countplot(x = 'Country',\n",
    "              data = df,\n",
    "              order = df['Country'].value_counts().index)"
   ]
  },
  {
   "cell_type": "markdown",
   "id": "dcc17839",
   "metadata": {},
   "source": [
    "We can observe the top 10 countries: Germany (DE), France (FR), Italy (IT), Spain (ES), Poland (PL), Belgium (BE), Netherlands (NL), Sweden (SE), Austria (AT), and Czechia (CZ) submitted the highest number of new registrations to the Commission."
   ]
  },
  {
   "cell_type": "code",
   "execution_count": 13,
   "id": "bcd2030d",
   "metadata": {},
   "outputs": [
    {
     "data": {
      "image/png": "[encoded data removed]",
      "text/plain": [
       "<Figure size 936x595.44 with 1 Axes>"
      ]
     },
     "metadata": {},
     "output_type": "display_data"
    }
   ],
   "source": [
    "sns.countplot(x = 'Ft',\n",
    "              data = df,\n",
    "              order = df['Ft'].value_counts().index);\n",
    "plt.xticks(rotation=45);"
   ]
  },
  {
   "cell_type": "markdown",
   "id": "23d49c7c",
   "metadata": {},
   "source": [
    "In 2021, there is still a high proportion of thermic car registrations."
   ]
  },
  {
   "cell_type": "code",
   "execution_count": 14,
   "id": "be52cf26",
   "metadata": {},
   "outputs": [
    {
     "data": {
      "image/png": "[encoded data removed]",
      "text/plain": [
       "<Figure size 936x595.44 with 1 Axes>"
      ]
     },
     "metadata": {},
     "output_type": "display_data"
    }
   ],
   "source": [
    "sns.countplot(x = 'Fm',\n",
    "              data = df,\n",
    "              order = df['Fm'].value_counts().index);\n",
    "plt.xticks(rotation=45);"
   ]
  },
  {
   "cell_type": "code",
   "execution_count": null,
   "id": "8da8fcdf",
   "metadata": {},
   "outputs": [],
   "source": []
  }
 ],
 "metadata": {
  "kernelspec": {
   "display_name": "Python 3 (ipykernel)",
   "language": "python",
   "name": "python3"
  },
  "language_info": {
   "codemirror_mode": {
    "name": "ipython",
    "version": 3
   },
   "file_extension": ".py",
   "mimetype": "text/x-python",
   "name": "python",
   "nbconvert_exporter": "python",
   "pygments_lexer": "ipython3",
   "version": "3.9.12"
  }
 },
 "nbformat": 4,
 "nbformat_minor": 5
}
